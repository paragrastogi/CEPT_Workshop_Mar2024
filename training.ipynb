{
 "cells": [
  {
   "cell_type": "code",
   "execution_count": 15,
   "id": "96de0420-ab55-4053-9c16-f6a9940d91d6",
   "metadata": {},
   "outputs": [],
   "source": [
    "import pandas as pd\n",
    "import numpy as np\n",
    "import matplotlib.pyplot as plt\n",
    "from lib.reduce_mem_usage import reduce_mem_usage\n",
    "from lib.petites import dd"
   ]
  },
  {
   "cell_type": "code",
   "execution_count": 6,
   "id": "feecf2b3-a4eb-4f51-b345-b698def47bfd",
   "metadata": {},
   "outputs": [],
   "source": [
    "path_metadata = \"./buds/data/metadata/\"\n",
    "path_weather = \"./buds/data/weather/\"\n",
    "path_meter_raw = \"./buds/data/meters/raw/\"\n",
    "path_meter_cleaned = \"./buds/data/meters/cleaned/\"\n",
    "path_meter_proc = \"./buds/data/meters/processed/\" "
   ]
  },
  {
   "cell_type": "code",
   "execution_count": 10,
   "id": "1ffc8c20-1aa2-4d3b-b361-0819e24fe7fd",
   "metadata": {},
   "outputs": [
    {
     "name": "stdout",
     "output_type": "stream",
     "text": [
      "Mem. usage decreased to  0.10 Mb (20.0% reduction)\n",
      "<class 'pandas.core.frame.DataFrame'>\n",
      "RangeIndex: 1636 entries, 0 to 1635\n",
      "Data columns (total 10 columns):\n",
      " #   Column                 Non-Null Count  Dtype  \n",
      "---  ------                 --------------  -----  \n",
      " 0   building_id            1636 non-null   object \n",
      " 1   site_id                1636 non-null   object \n",
      " 2   primaryspaceusage      1615 non-null   object \n",
      " 3   sub_primaryspaceusage  1615 non-null   object \n",
      " 4   sqm                    1636 non-null   float32\n",
      " 5   numberoffloors         441 non-null    float16\n",
      " 6   occupants              230 non-null    float16\n",
      " 7   energystarscore        163 non-null    object \n",
      " 8   site_eui               163 non-null    object \n",
      " 9   source_eui             163 non-null    object \n",
      "dtypes: float16(2), float32(1), object(7)\n",
      "memory usage: 102.4+ KB\n"
     ]
    }
   ],
   "source": [
    "# Buildings metadata\n",
    "metadata = pd.read_csv(path_metadata + \"metadata.csv\", usecols = [\"building_id\", \"site_id\", \"primaryspaceusage\", \"sub_primaryspaceusage\", \"sqm\", \"numberoffloors\", \"occupants\", \"site_eui\", \"source_eui\", \"energystarscore\"])\n",
    "\n",
    "metadata = reduce_mem_usage(metadata)\n",
    "metadata.info()"
   ]
  },
  {
   "cell_type": "code",
   "execution_count": 11,
   "id": "2b75a537-2e2b-4fbe-b489-abac1a2a8730",
   "metadata": {},
   "outputs": [
    {
     "name": "stdout",
     "output_type": "stream",
     "text": [
      "<class 'pandas.core.frame.DataFrame'>\n",
      "RangeIndex: 331166 entries, 0 to 331165\n",
      "Data columns (total 10 columns):\n",
      " #   Column          Non-Null Count   Dtype  \n",
      "---  ------          --------------   -----  \n",
      " 0   timestamp       331166 non-null  object \n",
      " 1   site_id         331166 non-null  object \n",
      " 2   airTemperature  331038 non-null  float64\n",
      " 3   cloudCoverage   160179 non-null  float64\n",
      " 4   dewTemperature  330838 non-null  float64\n",
      " 5   precipDepth1HR  197980 non-null  float64\n",
      " 6   precipDepth6HR  18162 non-null   float64\n",
      " 7   seaLvlPressure  309542 non-null  float64\n",
      " 8   windDirection   318161 non-null  float64\n",
      " 9   windSpeed       330592 non-null  float64\n",
      "dtypes: float64(8), object(2)\n",
      "memory usage: 25.3+ MB\n"
     ]
    }
   ],
   "source": [
    "path = './buds/data/weather/'\n",
    "weather = pd.read_csv(path + \"weather.csv\")\n",
    "weather.info()"
   ]
  },
  {
   "cell_type": "code",
   "execution_count": 14,
   "id": "f53e441c-18ca-41b1-8905-1f29f5b3af78",
   "metadata": {},
   "outputs": [
    {
     "name": "stdout",
     "output_type": "stream",
     "text": [
      "0         Panther\n",
      "1         Panther\n",
      "2         Panther\n",
      "3         Panther\n",
      "4         Panther\n",
      "           ...   \n",
      "331161      Mouse\n",
      "331162      Mouse\n",
      "331163      Mouse\n",
      "331164      Mouse\n",
      "331165      Mouse\n",
      "Name: site_id, Length: 331166, dtype: object\n"
     ]
    }
   ],
   "source": [
    "# Convert air Temperature to daily means for CDD/HDD calculation and arrange by location.\n",
    "weather.set_index("
   ]
  },
  {
   "cell_type": "code",
   "execution_count": null,
   "id": "6d36f35d-1e26-4ff4-98e4-1f078ef1b26b",
   "metadata": {},
   "outputs": [],
   "source": []
  },
  {
   "cell_type": "code",
   "execution_count": null,
   "id": "ac12b000-b766-4a7a-8f38-1f231992ab8e",
   "metadata": {},
   "outputs": [],
   "source": []
  }
 ],
 "metadata": {
  "kernelspec": {
   "display_name": "Python 3 (ipykernel)",
   "language": "python",
   "name": "python3"
  },
  "language_info": {
   "codemirror_mode": {
    "name": "ipython",
    "version": 3
   },
   "file_extension": ".py",
   "mimetype": "text/x-python",
   "name": "python",
   "nbconvert_exporter": "python",
   "pygments_lexer": "ipython3",
   "version": "3.12.1"
  }
 },
 "nbformat": 4,
 "nbformat_minor": 5
}
