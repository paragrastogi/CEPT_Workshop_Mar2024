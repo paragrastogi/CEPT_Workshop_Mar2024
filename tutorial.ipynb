{
 "cells": [
  {
   "cell_type": "code",
   "execution_count": null,
   "id": "5b58b33f",
   "metadata": {},
   "outputs": [],
   "source": [
    "# Import various standard modules.\n",
    "import glob, os, copy, pickle\n",
    "from datetime import datetime"
   ]
  },
  {
   "cell_type": "code",
   "execution_count": null,
   "id": "beb03b55",
   "metadata": {},
   "outputs": [],
   "source": [
    "# Computational modules.\n",
    "import pandas as pd\n",
    "import numpy as np"
   ]
  },
  {
   "cell_type": "code",
   "execution_count": null,
   "id": "59827ed9",
   "metadata": {},
   "outputs": [],
   "source": [
    "# Plotting modules.\n",
    "import matplotlib.pyplot as plt\n",
    "import seaborn as sns\n",
    "# Change backend for Mac\n",
    "if os.name == 'posix':\n",
    "    import matplotlib\n",
    "    matplotlib.use('TKAgg')"
   ]
  },
  {
   "cell_type": "code",
   "execution_count": null,
   "id": "719a4d28",
   "metadata": {},
   "outputs": [],
   "source": [
    "# This will be used to fit and predict using a regression model.\n",
    "from sklearn.linear_model import LinearRegression\n",
    "from sklearn.preprocessing import StandardScaler "
   ]
  },
  {
   "cell_type": "code",
   "execution_count": null,
   "id": "cc8631d1",
   "metadata": {},
   "outputs": [],
   "source": [
    "# # Get inline graphs .\n",
    "%matplotlib inline\n",
    "# # Only useful for debugging, when you \n",
    "# # need to reload external modules.\n",
    "# from importlib import reload"
   ]
  },
  {
   "cell_type": "markdown",
   "id": "80709ab6",
   "metadata": {},
   "source": [
    "Enable xkcd mode if you're a geek like Parag.\n",
    "plt.xkcd()"
   ]
  },
  {
   "cell_type": "code",
   "execution_count": null,
   "id": "4c6cd696",
   "metadata": {},
   "outputs": [],
   "source": [
    "# Import a custom read-write function for weather files.\n",
    "import lib.wfileio as wf"
   ]
  },
  {
   "cell_type": "code",
   "execution_count": null,
   "id": "9ee13bb2",
   "metadata": {},
   "outputs": [],
   "source": [
    "# import a file of small helpers I've written. Call it helper.\n",
    "import lib.petites as helpers"
   ]
  },
  {
   "cell_type": "code",
   "execution_count": null,
   "id": "a3f14fa0",
   "metadata": {},
   "outputs": [],
   "source": [
    "# Import an awesome colour palette. Call it colours.\n",
    "import lib.default_colours as colours"
   ]
  },
  {
   "cell_type": "code",
   "execution_count": null,
   "id": "201f09cf",
   "metadata": {},
   "outputs": [],
   "source": [
    "# Import a function to create a portfolio of buildings to use in this exercise.\n",
    "from lib.create_portfolio import create_portfolio"
   ]
  },
  {
   "cell_type": "code",
   "execution_count": null,
   "id": "559866f5",
   "metadata": {},
   "outputs": [],
   "source": [
    "# Set the random seed to a specific value so the experiment is repeatable. \n",
    "# See https://en.wikipedia.org/wiki/Random_seed for more information on what this means.\n",
    "# Change to your favourite number or today's date in unix timestamp format when doing the exercise yourself.\n",
    "randomseed = 42 # round(datetime.timestamp(datetime.now()))"
   ]
  },
  {
   "cell_type": "markdown",
   "id": "ff6e02b4",
   "metadata": {},
   "source": [
    "#"
   ]
  },
  {
   "cell_type": "markdown",
   "id": "3277edd1",
   "metadata": {},
   "source": [
    "Read weather data from location."
   ]
  },
  {
   "cell_type": "markdown",
   "id": "7b670d5a",
   "metadata": {},
   "source": [
    "I've used Ahmedabad as an example here - feel free to download weather data for any other city\n",
    "from http://climate.onebuilding.org/default.html if you like."
   ]
  },
  {
   "cell_type": "code",
   "execution_count": null,
   "id": "b8e29ed0",
   "metadata": {},
   "outputs": [],
   "source": [
    "pathWthrFolder = './data/ahmedabad' \n",
    "list_wfiles = glob.glob(pathWthrFolder+'/*.epw')"
   ]
  },
  {
   "cell_type": "markdown",
   "id": "75fe712f",
   "metadata": {},
   "source": [
    "Python can interpret the Unix file separator, the 'forward-slash' (/), on all platforms. \n",
    "That is, if you consistently use '/', the paths are automatically constructed based on the OS.\n",
    "If you want to use the Windows back-slash, make sure to precede the path string with an 'r'."
   ]
  },
  {
   "cell_type": "markdown",
   "id": "ddd0266e",
   "metadata": {},
   "source": [
    "The small program `get_weather` stores data from the incoming weather file as a dataframe. \n",
    "It outputs three things but I'm only using the first output for now, so I've put in underscores\n",
    "to indicate that the second and third outputs should not be assigned to a variable in memory."
   ]
  },
  {
   "cell_type": "code",
   "execution_count": null,
   "id": "c55916c4",
   "metadata": {},
   "outputs": [],
   "source": [
    "# Declare a list.\n",
    "listDfWthr = list()"
   ]
  },
  {
   "cell_type": "code",
   "execution_count": null,
   "id": "cf039306",
   "metadata": {},
   "outputs": [],
   "source": [
    "for file in list_wfiles:\n",
    "    \n",
    "    wtemp, _, _ = wf.get_weather('amd', file)\n",
    "    listDfWthr.append(wtemp)"
   ]
  },
  {
   "cell_type": "code",
   "execution_count": null,
   "id": "2e629341",
   "metadata": {},
   "outputs": [],
   "source": [
    "# Create a dataframe from list but also keep the list - useful for plotting later. \n",
    "dfW = pd.concat(listDfWthr)"
   ]
  },
  {
   "cell_type": "code",
   "execution_count": null,
   "id": "40412e38",
   "metadata": {},
   "outputs": [],
   "source": [
    "del listDfWthr"
   ]
  },
  {
   "cell_type": "code",
   "execution_count": null,
   "id": "d9201c88",
   "metadata": {},
   "outputs": [],
   "source": [
    "## \n",
    "# Calculate HDD and CDD at the given resolution (1 month). \n",
    "# Don't change this unless you rerun the training with a different resolution.\n",
    "RESOLUTION = '1ME' \n",
    "hdd, cdd, _ = helpers.dd_ashrae(dfW.loc[:,'tdb'], resolution=RESOLUTION)\n",
    "hdd.name = 'hdd'\n",
    "cdd.name = 'cdd'"
   ]
  },
  {
   "cell_type": "code",
   "execution_count": null,
   "id": "1e22bcef",
   "metadata": {},
   "outputs": [],
   "source": [
    "# Plot historical CDD. You can also plot HDD but they are so few and far between in Ahmedabad it's pointless. To keep the graph relatively clutter-free, take the sum of performance over each year and plot that instead of monthly values.\n",
    "ploty = cdd.resample('1YE').sum()\n",
    "fig, axes = plt.subplots(nrows=1, ncols=1, squeeze=True, sharey=True, figsize=[12,8])\n",
    "ax = axes #.flatten()\n",
    "fig.tight_layout(pad=3)\n",
    "plt.bar(x=ploty.index, height=ploty, width=300)\n",
    "plt.show()"
   ]
  },
  {
   "cell_type": "code",
   "execution_count": null,
   "id": "5978c2d1",
   "metadata": {},
   "outputs": [],
   "source": [
    "# Create a portfolio to work with for this exercise.\n",
    "size = 100\n",
    "btypes = ['Education', 'Office']\n",
    "location = ['all']\n",
    "randomness = True # This will tell the function below to inject a bit of randomness in each model so each building's response is slightly different.\n",
    "portfolio = create_portfolio(size, btypes, location, path_models='./', randomness=randomness)"
   ]
  },
  {
   "cell_type": "markdown",
   "id": "0b2b2e5d",
   "metadata": {},
   "source": [
    " Congratulations, you now have a portfolio of buildings in Ahmedabad. Each building has a unique ID, a building type (btype), and linear regression model representing its performance based on HDD and CDD."
   ]
  },
  {
   "cell_type": "markdown",
   "id": "b84d1bec",
   "metadata": {},
   "source": [
    "#\n",
    " Maybe train different models using different train-test splits for each building in the portfolio instead of always 2016 and 2017?\n",
    "#"
   ]
  },
  {
   "cell_type": "code",
   "execution_count": null,
   "id": "0273ef25",
   "metadata": {},
   "outputs": [],
   "source": [
    "# Calculate the present performance of the portfolio.\n",
    "X = pd.merge(hdd, cdd, how='inner', left_index=True, right_index=True)\n",
    "X.dropna(how='any', inplace=True)"
   ]
  },
  {
   "cell_type": "code",
   "execution_count": null,
   "id": "c9415c9b",
   "metadata": {},
   "outputs": [],
   "source": [
    "# We need to scale the inputs to have zero mean and unit variance (1). \n",
    "# This is because the model was fit with these transformed features. \n",
    "# Transforming features or inputs in this way makes it easier to use variables with \n",
    "# potentially very different magnitudes together in one equation and keep them comparable.\n",
    "# Standard scaler takes an element x_i and converts it to z_i = (x_i - \\mu)/\\sigma .\n",
    "scaler = StandardScaler().fit(X)\n",
    "X_scaled = scaler.transform(X)\n",
    "X_scaled = pd.DataFrame(X_scaled, columns = X.columns, index=X.index)"
   ]
  },
  {
   "cell_type": "code",
   "execution_count": null,
   "id": "706d68ba",
   "metadata": {},
   "outputs": [],
   "source": [
    "performanceHistorical = portfolio.loc[:,'model'].apply(lambda x: x[0]*X_scaled.iloc[:,0] + x[1]*X_scaled.iloc[:,1] + x[2])\n",
    "# performanceHist = pd.DataFrame(perf.tolist(), index=portfolio.index, columns=X.index)"
   ]
  },
  {
   "cell_type": "code",
   "execution_count": null,
   "id": "46a19e64",
   "metadata": {},
   "outputs": [],
   "source": [
    "performancePortfolioHistorical = performanceHistorical.sum(axis=0)\n",
    "performancePortfolioHistorical.name = 'performance'"
   ]
  },
  {
   "cell_type": "code",
   "execution_count": null,
   "id": "a6615e05",
   "metadata": {},
   "outputs": [],
   "source": [
    "## \n",
    "# Plot historical performance. To keep the graph relatively clutter-free, take the sum of performance over each year and plot that instead of monthly values.\n",
    "ploty = performancePortfolioHistorical.resample('1YE').sum()\n",
    "fig, axes = plt.subplots(nrows=1, ncols=1, squeeze=True, sharey=True, figsize=[12,8])\n",
    "ax = axes #.flatten()\n",
    "fig.tight_layout(pad=3)\n",
    "plt.bar(x=ploty.index, height=ploty, width=300)\n",
    "plt.show()"
   ]
  },
  {
   "cell_type": "markdown",
   "id": "daadb3c4",
   "metadata": {
    "lines_to_next_cell": 2
   },
   "source": [
    "Calculate the future performance of the portfolio without any changes to buildings or composition of portfolio."
   ]
  },
  {
   "cell_type": "code",
   "execution_count": null,
   "id": "1a124df3",
   "metadata": {},
   "outputs": [],
   "source": [
    "print(portfolio)"
   ]
  }
 ],
 "metadata": {
  "jupytext": {
   "cell_metadata_filter": "-all",
   "main_language": "python",
   "notebook_metadata_filter": "-all"
  }
 },
 "nbformat": 4,
 "nbformat_minor": 5
}
